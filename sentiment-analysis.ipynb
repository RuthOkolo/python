{
 "cells": [
  {
   "cell_type": "markdown",
   "metadata": {},
   "source": [
    "# Sentiment Analysis in Python"
   ]
  },
  {
   "cell_type": "markdown",
   "metadata": {},
   "source": [
    "In this Notebook, a sentiment analysis of social media data will be performed to evaluate public sentiment regarding the launch of the Macbook M3 Pro. "
   ]
  },
  {
   "cell_type": "markdown",
   "metadata": {
    "vscode": {
     "languageId": "plaintext"
    }
   },
   "source": [
    "It will be done using NLTK's VADER (Valence Aware Dictionary and Sentiment Reasoner) technique."
   ]
  },
  {
   "cell_type": "markdown",
   "metadata": {},
   "source": [
    "### Read in Data and NLTK Basics"
   ]
  },
  {
   "cell_type": "code",
   "execution_count": 3,
   "metadata": {},
   "outputs": [],
   "source": [
    "# import python libraries for handling and analysing data\n",
    "import pandas as pd\n",
    "import numpy as np\n",
    "\n",
    "from bs4 import BeautifulSoup\n",
    "\n",
    "# import the data visualization tools\n",
    "import seaborn as sns\n",
    "import matplotlib.pyplot as plt\n",
    "\n",
    "\n",
    "#import the natural language toolkit\n",
    "import nltk\n",
    "\n",
    "plt.style.use('ggplot')"
   ]
  },
  {
   "cell_type": "code",
   "execution_count": 4,
   "metadata": {},
   "outputs": [
    {
     "data": {
      "text/html": [
       "<div>\n",
       "<style scoped>\n",
       "    .dataframe tbody tr th:only-of-type {\n",
       "        vertical-align: middle;\n",
       "    }\n",
       "\n",
       "    .dataframe tbody tr th {\n",
       "        vertical-align: top;\n",
       "    }\n",
       "\n",
       "    .dataframe thead th {\n",
       "        text-align: right;\n",
       "    }\n",
       "</style>\n",
       "<table border=\"1\" class=\"dataframe\">\n",
       "  <thead>\n",
       "    <tr style=\"text-align: right;\">\n",
       "      <th></th>\n",
       "      <th>id</th>\n",
       "      <th>review_id</th>\n",
       "      <th>author_name</th>\n",
       "      <th>review_title</th>\n",
       "      <th>review_rating</th>\n",
       "      <th>review_date</th>\n",
       "      <th>review_content</th>\n",
       "    </tr>\n",
       "  </thead>\n",
       "  <tbody>\n",
       "    <tr>\n",
       "      <th>0</th>\n",
       "      <td>1</td>\n",
       "      <td>R2Y840YO94QJNT</td>\n",
       "      <td>Guy Boisvert</td>\n",
       "      <td>Defective Keyboard</td>\n",
       "      <td>1</td>\n",
       "      <td>05-Apr-24</td>\n",
       "      <td>Returned to Amazon</td>\n",
       "    </tr>\n",
       "    <tr>\n",
       "      <th>1</th>\n",
       "      <td>2</td>\n",
       "      <td>R1TJ3JBAB212Y9</td>\n",
       "      <td>E. Simon</td>\n",
       "      <td>Big Improvement over Intel Models</td>\n",
       "      <td>5</td>\n",
       "      <td>19-Jun-24</td>\n",
       "      <td>I purchased the 14\" model with the 18 Gb of in...</td>\n",
       "    </tr>\n",
       "    <tr>\n",
       "      <th>2</th>\n",
       "      <td>3</td>\n",
       "      <td>R2IKN4C7IY9Q93</td>\n",
       "      <td>Mick Pier</td>\n",
       "      <td>Great features and long battery life.</td>\n",
       "      <td>5</td>\n",
       "      <td>31-May-24</td>\n",
       "      <td>I use this macBook mostly for photo editing an...</td>\n",
       "    </tr>\n",
       "    <tr>\n",
       "      <th>3</th>\n",
       "      <td>4</td>\n",
       "      <td>R1WX22WWE57KQS</td>\n",
       "      <td>Steven Rossi</td>\n",
       "      <td>Not designed like previous versions</td>\n",
       "      <td>5</td>\n",
       "      <td>19-Jul-24</td>\n",
       "      <td>I've been an Apple user since the beginning. A...</td>\n",
       "    </tr>\n",
       "    <tr>\n",
       "      <th>4</th>\n",
       "      <td>5</td>\n",
       "      <td>R2VI2SLQYUX0ML</td>\n",
       "      <td>Danielle Babu</td>\n",
       "      <td>Husbands Gift</td>\n",
       "      <td>5</td>\n",
       "      <td>28-May-24</td>\n",
       "      <td>My husband ordered this off of my Amazon accou...</td>\n",
       "    </tr>\n",
       "  </tbody>\n",
       "</table>\n",
       "</div>"
      ],
      "text/plain": [
       "   id       review_id    author_name                           review_title  \\\n",
       "0   1  R2Y840YO94QJNT   Guy Boisvert                     Defective Keyboard   \n",
       "1   2  R1TJ3JBAB212Y9       E. Simon      Big Improvement over Intel Models   \n",
       "2   3  R2IKN4C7IY9Q93      Mick Pier  Great features and long battery life.   \n",
       "3   4  R1WX22WWE57KQS   Steven Rossi    Not designed like previous versions   \n",
       "4   5  R2VI2SLQYUX0ML  Danielle Babu                          Husbands Gift   \n",
       "\n",
       "   review_rating review_date  \\\n",
       "0              1   05-Apr-24   \n",
       "1              5   19-Jun-24   \n",
       "2              5   31-May-24   \n",
       "3              5   19-Jul-24   \n",
       "4              5   28-May-24   \n",
       "\n",
       "                                      review_content  \n",
       "0                                 Returned to Amazon  \n",
       "1  I purchased the 14\" model with the 18 Gb of in...  \n",
       "2  I use this macBook mostly for photo editing an...  \n",
       "3  I've been an Apple user since the beginning. A...  \n",
       "4  My husband ordered this off of my Amazon accou...  "
      ]
     },
     "execution_count": 4,
     "metadata": {},
     "output_type": "execute_result"
    }
   ],
   "source": [
    "# Read the data\n",
    "file_path = '/Users/admin/Desktop/Sentiment Analysis of Apple M3 Pro/apple_m3_pro_reviews.csv'\n",
    "datafile = pd.read_csv(file_path)\n",
    "datafile.head()"
   ]
  },
  {
   "cell_type": "markdown",
   "metadata": {},
   "source": [
    "### QUICK EDA\n"
   ]
  },
  {
   "cell_type": "code",
   "execution_count": 5,
   "metadata": {},
   "outputs": [
    {
     "data": {
      "text/plain": [
       "<module 'matplotlib.pyplot' from '/opt/anaconda3/lib/python3.12/site-packages/matplotlib/pyplot.py'>"
      ]
     },
     "execution_count": 5,
     "metadata": {},
     "output_type": "execute_result"
    },
    {
     "data": {
      "image/png": "[encoded data removed]",
      "text/plain": [
       "<Figure size 1000x500 with 1 Axes>"
      ]
     },
     "metadata": {},
     "output_type": "display_data"
    }
   ],
   "source": [
    "\n",
    "# Create the bar plot \n",
    "bar = datafile['review_rating'].value_counts().sort_index() \\\n",
    "    .plot(kind='bar', title='Breakdown of reviews by star ratings',\n",
    "          figsize=(10, 5))\n",
    "bar.set_xlabel('Review Star Rating')\n",
    "bar.set_ylabel('Number of reviews')\n",
    "\n",
    "# Display the plot using the data visualization tool matplotlib\n",
    "plt"
   ]
  },
  {
   "cell_type": "markdown",
   "metadata": {},
   "source": [
    "### BASIC NLTK\n"
   ]
  },
  {
   "cell_type": "code",
   "execution_count": 6,
   "metadata": {},
   "outputs": [
    {
     "name": "stdout",
     "output_type": "stream",
     "text": [
      "new macbook is really beautiful, but apple really need to focus on their quality control....\n"
     ]
    }
   ],
   "source": [
    "review_45th_customer = datafile['review_content'][45]\n",
    "print(review_45th_customer)"
   ]
  },
  {
   "cell_type": "markdown",
   "metadata": {},
   "source": [
    "###  VADER Sentiment Scoring\n",
    " \n",
    " We are going to utilize the SentimentIntensityAnalyzer to obtain the negative, neutral and positive scores of the reviews."
   ]
  },
  {
   "cell_type": "code",
   "execution_count": 7,
   "metadata": {},
   "outputs": [
    {
     "name": "stderr",
     "output_type": "stream",
     "text": [
      "[nltk_data] Downloading package vader_lexicon to\n",
      "[nltk_data]     /Users/admin/nltk_data...\n",
      "[nltk_data]   Package vader_lexicon is already up-to-date!\n"
     ]
    }
   ],
   "source": [
    "\n",
    "from nltk.sentiment import SentimentIntensityAnalyzer\n",
    "from tqdm.notebook import tqdm\n",
    "\n",
    "# Download the VADER lexicon data\n",
    "nltk.download('vader_lexicon')\n",
    "\n",
    "# Initialize the SentimentIntensityAnalyzer\n",
    "sia = SentimentIntensityAnalyzer()"
   ]
  },
  {
   "cell_type": "code",
   "execution_count": 8,
   "metadata": {},
   "outputs": [
    {
     "data": {
      "text/plain": [
       "{'neg': 0.0, 'neu': 0.192, 'pos': 0.808, 'compound': 0.6369}"
      ]
     },
     "execution_count": 8,
     "metadata": {},
     "output_type": "execute_result"
    }
   ],
   "source": [
    "# Test the analyzer\n",
    "sia.polarity_scores('I love it')"
   ]
  },
  {
   "cell_type": "code",
   "execution_count": 9,
   "metadata": {},
   "outputs": [
    {
     "data": {
      "text/plain": [
       "{'neg': 0.413, 'neu': 0.587, 'pos': 0.0, 'compound': -0.2755}"
      ]
     },
     "execution_count": 9,
     "metadata": {},
     "output_type": "execute_result"
    }
   ],
   "source": [
    "# Test the analyzer again\n",
    "sia.polarity_scores('I do not like it')"
   ]
  },
  {
   "cell_type": "code",
   "execution_count": 10,
   "metadata": {},
   "outputs": [
    {
     "data": {
      "text/plain": [
       "{'neg': 0.0, 'neu': 0.844, 'pos': 0.156, 'compound': 0.3811}"
      ]
     },
     "execution_count": 10,
     "metadata": {},
     "output_type": "execute_result"
    }
   ],
   "source": [
    "# Test the analyzer using the 45th customer's review\n",
    "sia.polarity_scores(review_45th_customer)"
   ]
  },
  {
   "cell_type": "code",
   "execution_count": 11,
   "metadata": {},
   "outputs": [
    {
     "data": {
      "application/vnd.jupyter.widget-view+json": {
       "model_id": "a045fa60c82a4c038ba6593b0b168ef0",
       "version_major": 2,
       "version_minor": 0
      },
      "text/plain": [
       "  0%|          | 0/75 [00:00<?, ?it/s]"
      ]
     },
     "metadata": {},
     "output_type": "display_data"
    }
   ],
   "source": [
    "# Run the ploarity score on the entire dataset\n",
    "result = {}\n",
    "for i, row in tqdm(datafile.iterrows(), total=len(datafile)):\n",
    "    review = row['review_content']\n",
    "    id = row['id']\n",
    "    result[id] = sia.polarity_scores(review)\n",
    "\n",
    "\n"
   ]
  },
  {
   "cell_type": "code",
   "execution_count": 12,
   "metadata": {},
   "outputs": [
    {
     "data": {
      "text/html": [
       "<div>\n",
       "<style scoped>\n",
       "    .dataframe tbody tr th:only-of-type {\n",
       "        vertical-align: middle;\n",
       "    }\n",
       "\n",
       "    .dataframe tbody tr th {\n",
       "        vertical-align: top;\n",
       "    }\n",
       "\n",
       "    .dataframe thead th {\n",
       "        text-align: right;\n",
       "    }\n",
       "</style>\n",
       "<table border=\"1\" class=\"dataframe\">\n",
       "  <thead>\n",
       "    <tr style=\"text-align: right;\">\n",
       "      <th></th>\n",
       "      <th>id</th>\n",
       "      <th>neg</th>\n",
       "      <th>neu</th>\n",
       "      <th>pos</th>\n",
       "      <th>compound</th>\n",
       "    </tr>\n",
       "  </thead>\n",
       "  <tbody>\n",
       "    <tr>\n",
       "      <th>0</th>\n",
       "      <td>1</td>\n",
       "      <td>0.000</td>\n",
       "      <td>0.541</td>\n",
       "      <td>0.459</td>\n",
       "      <td>0.1779</td>\n",
       "    </tr>\n",
       "    <tr>\n",
       "      <th>1</th>\n",
       "      <td>2</td>\n",
       "      <td>0.000</td>\n",
       "      <td>1.000</td>\n",
       "      <td>0.000</td>\n",
       "      <td>0.0000</td>\n",
       "    </tr>\n",
       "    <tr>\n",
       "      <th>2</th>\n",
       "      <td>3</td>\n",
       "      <td>0.000</td>\n",
       "      <td>0.906</td>\n",
       "      <td>0.094</td>\n",
       "      <td>0.3612</td>\n",
       "    </tr>\n",
       "    <tr>\n",
       "      <th>3</th>\n",
       "      <td>4</td>\n",
       "      <td>0.000</td>\n",
       "      <td>1.000</td>\n",
       "      <td>0.000</td>\n",
       "      <td>0.0000</td>\n",
       "    </tr>\n",
       "    <tr>\n",
       "      <th>4</th>\n",
       "      <td>5</td>\n",
       "      <td>0.069</td>\n",
       "      <td>0.622</td>\n",
       "      <td>0.309</td>\n",
       "      <td>0.9682</td>\n",
       "    </tr>\n",
       "    <tr>\n",
       "      <th>...</th>\n",
       "      <td>...</td>\n",
       "      <td>...</td>\n",
       "      <td>...</td>\n",
       "      <td>...</td>\n",
       "      <td>...</td>\n",
       "    </tr>\n",
       "    <tr>\n",
       "      <th>70</th>\n",
       "      <td>71</td>\n",
       "      <td>0.246</td>\n",
       "      <td>0.634</td>\n",
       "      <td>0.120</td>\n",
       "      <td>-0.5548</td>\n",
       "    </tr>\n",
       "    <tr>\n",
       "      <th>71</th>\n",
       "      <td>72</td>\n",
       "      <td>0.231</td>\n",
       "      <td>0.769</td>\n",
       "      <td>0.000</td>\n",
       "      <td>-0.7970</td>\n",
       "    </tr>\n",
       "    <tr>\n",
       "      <th>72</th>\n",
       "      <td>73</td>\n",
       "      <td>0.000</td>\n",
       "      <td>1.000</td>\n",
       "      <td>0.000</td>\n",
       "      <td>0.0000</td>\n",
       "    </tr>\n",
       "    <tr>\n",
       "      <th>73</th>\n",
       "      <td>74</td>\n",
       "      <td>0.055</td>\n",
       "      <td>0.821</td>\n",
       "      <td>0.124</td>\n",
       "      <td>0.4215</td>\n",
       "    </tr>\n",
       "    <tr>\n",
       "      <th>74</th>\n",
       "      <td>75</td>\n",
       "      <td>0.000</td>\n",
       "      <td>1.000</td>\n",
       "      <td>0.000</td>\n",
       "      <td>0.0000</td>\n",
       "    </tr>\n",
       "  </tbody>\n",
       "</table>\n",
       "<p>75 rows × 5 columns</p>\n",
       "</div>"
      ],
      "text/plain": [
       "    id    neg    neu    pos  compound\n",
       "0    1  0.000  0.541  0.459    0.1779\n",
       "1    2  0.000  1.000  0.000    0.0000\n",
       "2    3  0.000  0.906  0.094    0.3612\n",
       "3    4  0.000  1.000  0.000    0.0000\n",
       "4    5  0.069  0.622  0.309    0.9682\n",
       "..  ..    ...    ...    ...       ...\n",
       "70  71  0.246  0.634  0.120   -0.5548\n",
       "71  72  0.231  0.769  0.000   -0.7970\n",
       "72  73  0.000  1.000  0.000    0.0000\n",
       "73  74  0.055  0.821  0.124    0.4215\n",
       "74  75  0.000  1.000  0.000    0.0000\n",
       "\n",
       "[75 rows x 5 columns]"
      ]
     },
     "execution_count": 12,
     "metadata": {},
     "output_type": "execute_result"
    }
   ],
   "source": [
    "# store in a pandas dataframe\n",
    "vaders = pd.DataFrame(result).T\n",
    "vaders = vaders.reset_index().rename(columns={'index' : 'id'})\n",
    "vaders"
   ]
  },
  {
   "cell_type": "code",
   "execution_count": 13,
   "metadata": {},
   "outputs": [
    {
     "data": {
      "text/html": [
       "<div>\n",
       "<style scoped>\n",
       "    .dataframe tbody tr th:only-of-type {\n",
       "        vertical-align: middle;\n",
       "    }\n",
       "\n",
       "    .dataframe tbody tr th {\n",
       "        vertical-align: top;\n",
       "    }\n",
       "\n",
       "    .dataframe thead th {\n",
       "        text-align: right;\n",
       "    }\n",
       "</style>\n",
       "<table border=\"1\" class=\"dataframe\">\n",
       "  <thead>\n",
       "    <tr style=\"text-align: right;\">\n",
       "      <th></th>\n",
       "      <th>id</th>\n",
       "      <th>neg</th>\n",
       "      <th>neu</th>\n",
       "      <th>pos</th>\n",
       "      <th>compound</th>\n",
       "      <th>review_id</th>\n",
       "      <th>author_name</th>\n",
       "      <th>review_title</th>\n",
       "      <th>review_rating</th>\n",
       "      <th>review_date</th>\n",
       "      <th>review_content</th>\n",
       "    </tr>\n",
       "  </thead>\n",
       "  <tbody>\n",
       "    <tr>\n",
       "      <th>0</th>\n",
       "      <td>1</td>\n",
       "      <td>0.000</td>\n",
       "      <td>0.541</td>\n",
       "      <td>0.459</td>\n",
       "      <td>0.1779</td>\n",
       "      <td>R2Y840YO94QJNT</td>\n",
       "      <td>Guy Boisvert</td>\n",
       "      <td>Defective Keyboard</td>\n",
       "      <td>1</td>\n",
       "      <td>05-Apr-24</td>\n",
       "      <td>Returned to Amazon</td>\n",
       "    </tr>\n",
       "    <tr>\n",
       "      <th>1</th>\n",
       "      <td>2</td>\n",
       "      <td>0.000</td>\n",
       "      <td>1.000</td>\n",
       "      <td>0.000</td>\n",
       "      <td>0.0000</td>\n",
       "      <td>R1TJ3JBAB212Y9</td>\n",
       "      <td>E. Simon</td>\n",
       "      <td>Big Improvement over Intel Models</td>\n",
       "      <td>5</td>\n",
       "      <td>19-Jun-24</td>\n",
       "      <td>I purchased the 14\" model with the 18 Gb of in...</td>\n",
       "    </tr>\n",
       "    <tr>\n",
       "      <th>2</th>\n",
       "      <td>3</td>\n",
       "      <td>0.000</td>\n",
       "      <td>0.906</td>\n",
       "      <td>0.094</td>\n",
       "      <td>0.3612</td>\n",
       "      <td>R2IKN4C7IY9Q93</td>\n",
       "      <td>Mick Pier</td>\n",
       "      <td>Great features and long battery life.</td>\n",
       "      <td>5</td>\n",
       "      <td>31-May-24</td>\n",
       "      <td>I use this macBook mostly for photo editing an...</td>\n",
       "    </tr>\n",
       "    <tr>\n",
       "      <th>3</th>\n",
       "      <td>4</td>\n",
       "      <td>0.000</td>\n",
       "      <td>1.000</td>\n",
       "      <td>0.000</td>\n",
       "      <td>0.0000</td>\n",
       "      <td>R1WX22WWE57KQS</td>\n",
       "      <td>Steven Rossi</td>\n",
       "      <td>Not designed like previous versions</td>\n",
       "      <td>5</td>\n",
       "      <td>19-Jul-24</td>\n",
       "      <td>I've been an Apple user since the beginning. A...</td>\n",
       "    </tr>\n",
       "    <tr>\n",
       "      <th>4</th>\n",
       "      <td>5</td>\n",
       "      <td>0.069</td>\n",
       "      <td>0.622</td>\n",
       "      <td>0.309</td>\n",
       "      <td>0.9682</td>\n",
       "      <td>R2VI2SLQYUX0ML</td>\n",
       "      <td>Danielle Babu</td>\n",
       "      <td>Husbands Gift</td>\n",
       "      <td>5</td>\n",
       "      <td>28-May-24</td>\n",
       "      <td>My husband ordered this off of my Amazon accou...</td>\n",
       "    </tr>\n",
       "  </tbody>\n",
       "</table>\n",
       "</div>"
      ],
      "text/plain": [
       "   id    neg    neu    pos  compound       review_id    author_name  \\\n",
       "0   1  0.000  0.541  0.459    0.1779  R2Y840YO94QJNT   Guy Boisvert   \n",
       "1   2  0.000  1.000  0.000    0.0000  R1TJ3JBAB212Y9       E. Simon   \n",
       "2   3  0.000  0.906  0.094    0.3612  R2IKN4C7IY9Q93      Mick Pier   \n",
       "3   4  0.000  1.000  0.000    0.0000  R1WX22WWE57KQS   Steven Rossi   \n",
       "4   5  0.069  0.622  0.309    0.9682  R2VI2SLQYUX0ML  Danielle Babu   \n",
       "\n",
       "                            review_title  review_rating review_date  \\\n",
       "0                     Defective Keyboard              1   05-Apr-24   \n",
       "1      Big Improvement over Intel Models              5   19-Jun-24   \n",
       "2  Great features and long battery life.              5   31-May-24   \n",
       "3    Not designed like previous versions              5   19-Jul-24   \n",
       "4                          Husbands Gift              5   28-May-24   \n",
       "\n",
       "                                      review_content  \n",
       "0                                 Returned to Amazon  \n",
       "1  I purchased the 14\" model with the 18 Gb of in...  \n",
       "2  I use this macBook mostly for photo editing an...  \n",
       "3  I've been an Apple user since the beginning. A...  \n",
       "4  My husband ordered this off of my Amazon accou...  "
      ]
     },
     "execution_count": 13,
     "metadata": {},
     "output_type": "execute_result"
    }
   ],
   "source": [
    "# Merge the datafile with the vaders table\n",
    "vaders = vaders.merge(datafile, how='left')\n",
    "vaders.head()"
   ]
  },
  {
   "cell_type": "markdown",
   "metadata": {},
   "source": [
    "### Plot VADER results"
   ]
  },
  {
   "cell_type": "code",
   "execution_count": 14,
   "metadata": {},
   "outputs": [
    {
     "data": {
      "text/plain": [
       "Text(0.5, 1.0, 'Compound ratings of Macbook M3 Pro by Amazon review')"
      ]
     },
     "execution_count": 14,
     "metadata": {},
     "output_type": "execute_result"
    },
    {
     "data": {
      "image/png": "[encoded data removed]",
      "text/plain": [
       "<Figure size 640x480 with 1 Axes>"
      ]
     },
     "metadata": {},
     "output_type": "display_data"
    }
   ],
   "source": [
    "# plot the result using the data visualization tool Seaborn\n",
    "plot = sns.barplot(data=vaders, x='review_rating', y='compound')\n",
    "plot.set_title(\"Compound ratings of Macbook M3 Pro by Amazon review\")"
   ]
  },
  {
   "cell_type": "code",
   "execution_count": 15,
   "metadata": {},
   "outputs": [
    {
     "data": {
      "text/plain": [
       "<module 'matplotlib.pyplot' from '/opt/anaconda3/lib/python3.12/site-packages/matplotlib/pyplot.py'>"
      ]
     },
     "execution_count": 15,
     "metadata": {},
     "output_type": "execute_result"
    },
    {
     "data": {
      "image/png": "[encoded data removed]",
      "text/plain": [
       "<Figure size 1500x500 with 3 Axes>"
      ]
     },
     "metadata": {},
     "output_type": "display_data"
    }
   ],
   "source": [
    "# use matplotlib subplot to section \n",
    "fig, plot = plt.subplots(1, 3, figsize=(15, 5))\n",
    "\n",
    "# plot the positive, neutral and negative review ratings\n",
    "sns.barplot(data=vaders, x='review_rating', y='pos', ax=plot[0])\n",
    "sns.barplot(data=vaders, x='review_rating', y='neu', ax=plot[1])\n",
    "sns.barplot(data=vaders, x='review_rating', y='neg', ax=plot[2])\n",
    "\n",
    "# Set titles for each subplot\n",
    "plot[0].set_title('positive')\n",
    "plot[1].set_title('neutral')\n",
    "plot[2].set_title('negative')\n",
    "\n",
    "# do a tight layout to avoid overlapping of the y axis labels\n",
    "plt.tight_layout\n",
    "plt"
   ]
  },
  {
   "cell_type": "markdown",
   "metadata": {},
   "source": []
  }
 ],
 "metadata": {
  "kernelspec": {
   "display_name": "Python 3",
   "language": "python",
   "name": "python3"
  },
  "language_info": {
   "codemirror_mode": {
    "name": "ipython",
    "version": 3
   },
   "file_extension": ".py",
   "mimetype": "text/x-python",
   "name": "python",
   "nbconvert_exporter": "python",
   "pygments_lexer": "ipython3",
   "version": "3.12.4"
  }
 },
 "nbformat": 4,
 "nbformat_minor": 2
}
